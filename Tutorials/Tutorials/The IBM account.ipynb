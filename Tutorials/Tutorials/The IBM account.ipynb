{
 "cells": [
  {
   "cell_type": "code",
   "execution_count": 5,
   "metadata": {},
   "outputs": [],
   "source": [
    "from qiskit import IBMQ"
   ]
  },
  {
   "cell_type": "code",
   "execution_count": 6,
   "metadata": {},
   "outputs": [],
   "source": [
    "#The ACCOUNT\n",
    "#The IBMQ account object has functions for handling administrative tasks"
   ]
  },
  {
   "cell_type": "code",
   "execution_count": 7,
   "metadata": {},
   "outputs": [],
   "source": [
    "#Delete the accounts exiting in the disk\n",
    "IBMQ.delete_account()"
   ]
  },
  {
   "cell_type": "code",
   "execution_count": 8,
   "metadata": {},
   "outputs": [
    {
     "data": {
      "text/plain": [
       "<AccountProvider for IBMQ(hub='ibm-q', group='open', project='main')>"
      ]
     },
     "execution_count": 8,
     "metadata": {},
     "output_type": "execute_result"
    }
   ],
   "source": [
    "#Enable your account in the current season\n",
    "IBMQ.enable_account('83158fa83d295a4256b792eed90ad3696380500c9752858f5693cd5cfa0cc34e5ae82429acc43813fe1222c6cfdb9a5dc5313118c64be9299cff625976ed5835')"
   ]
  },
  {
   "cell_type": "code",
   "execution_count": 9,
   "metadata": {},
   "outputs": [],
   "source": [
    "#Save the account on the disk\n",
    "IBMQ.save_account('83158fa83d295a4256b792eed90ad3696380500c9752858f5693cd5cfa0cc34e5ae82429acc43813fe1222c6cfdb9a5dc5313118c64be9299cff625976ed5835')"
   ]
  },
  {
   "cell_type": "code",
   "execution_count": 10,
   "metadata": {},
   "outputs": [],
   "source": [
    "#Disable the account for the current season\n",
    "IBMQ.disable_account()"
   ]
  },
  {
   "cell_type": "code",
   "execution_count": 11,
   "metadata": {},
   "outputs": [
    {
     "data": {
      "text/plain": [
       "<AccountProvider for IBMQ(hub='ibm-q', group='open', project='main')>"
      ]
     },
     "execution_count": 11,
     "metadata": {},
     "output_type": "execute_result"
    }
   ],
   "source": [
    "#Load the account from the disk\n",
    "IBMQ.load_account()"
   ]
  },
  {
   "cell_type": "code",
   "execution_count": 12,
   "metadata": {},
   "outputs": [
    {
     "data": {
      "text/plain": [
       "{'token': '83158fa83d295a4256b792eed90ad3696380500c9752858f5693cd5cfa0cc34e5ae82429acc43813fe1222c6cfdb9a5dc5313118c64be9299cff625976ed5835',\n",
       " 'url': 'https://auth.quantum-computing.ibm.com/api'}"
      ]
     },
     "execution_count": 12,
     "metadata": {},
     "output_type": "execute_result"
    }
   ],
   "source": [
    "#Output a list of the accounts saved in the disk\n",
    "IBMQ.stored_account()"
   ]
  },
  {
   "cell_type": "code",
   "execution_count": 14,
   "metadata": {},
   "outputs": [
    {
     "data": {
      "text/plain": [
       "{'token': '83158fa83d295a4256b792eed90ad3696380500c9752858f5693cd5cfa0cc34e5ae82429acc43813fe1222c6cfdb9a5dc5313118c64be9299cff625976ed5835',\n",
       " 'url': 'https://auth.quantum-computing.ibm.com/api'}"
      ]
     },
     "execution_count": 14,
     "metadata": {},
     "output_type": "execute_result"
    }
   ],
   "source": [
    "#Output the account of the current season\n",
    "IBMQ.active_account()"
   ]
  },
  {
   "cell_type": "code",
   "execution_count": 15,
   "metadata": {},
   "outputs": [
    {
     "data": {
      "text/plain": [
       "[<IBMQSimulator('ibmq_qasm_simulator') from IBMQ(hub='ibm-q', group='open', project='main')>,\n",
       " <IBMQBackend('ibmqx2') from IBMQ(hub='ibm-q', group='open', project='main')>,\n",
       " <IBMQBackend('ibmq_16_melbourne') from IBMQ(hub='ibm-q', group='open', project='main')>,\n",
       " <IBMQBackend('ibmq_vigo') from IBMQ(hub='ibm-q', group='open', project='main')>,\n",
       " <IBMQBackend('ibmq_ourense') from IBMQ(hub='ibm-q', group='open', project='main')>,\n",
       " <IBMQBackend('ibmq_london') from IBMQ(hub='ibm-q', group='open', project='main')>,\n",
       " <IBMQBackend('ibmq_burlington') from IBMQ(hub='ibm-q', group='open', project='main')>,\n",
       " <IBMQBackend('ibmq_essex') from IBMQ(hub='ibm-q', group='open', project='main')>,\n",
       " <IBMQBackend('ibmq_armonk') from IBMQ(hub='ibm-q', group='open', project='main')>,\n",
       " <IBMQBackend('ibmq_rome') from IBMQ(hub='ibm-q', group='open', project='main')>]"
      ]
     },
     "execution_count": 15,
     "metadata": {},
     "output_type": "execute_result"
    }
   ],
   "source": [
    "# THE PROVIDER \n",
    "# The backends allowed in my account\n",
    "provider = IBMQ.get_provider(hub='ibm-q')\n",
    "provider.backends()"
   ]
  },
  {
   "cell_type": "code",
   "execution_count": 16,
   "metadata": {},
   "outputs": [
    {
     "data": {
      "text/plain": [
       "<IBMQBackend('ibmq_16_melbourne') from IBMQ(hub='ibm-q', group='open', project='main')>"
      ]
     },
     "execution_count": 16,
     "metadata": {},
     "output_type": "execute_result"
    }
   ],
   "source": [
    "# Selecting one\n",
    "backend = provider.get_backend('ibmq_16_melbourne')\n",
    "backend"
   ]
  },
  {
   "cell_type": "code",
   "execution_count": 17,
   "metadata": {},
   "outputs": [
    {
     "data": {
      "text/plain": [
       "[<IBMQBackend('ibmqx2') from IBMQ(hub='ibm-q', group='open', project='main')>,\n",
       " <IBMQBackend('ibmq_16_melbourne') from IBMQ(hub='ibm-q', group='open', project='main')>,\n",
       " <IBMQBackend('ibmq_vigo') from IBMQ(hub='ibm-q', group='open', project='main')>,\n",
       " <IBMQBackend('ibmq_ourense') from IBMQ(hub='ibm-q', group='open', project='main')>,\n",
       " <IBMQBackend('ibmq_london') from IBMQ(hub='ibm-q', group='open', project='main')>,\n",
       " <IBMQBackend('ibmq_burlington') from IBMQ(hub='ibm-q', group='open', project='main')>,\n",
       " <IBMQBackend('ibmq_essex') from IBMQ(hub='ibm-q', group='open', project='main')>,\n",
       " <IBMQBackend('ibmq_armonk') from IBMQ(hub='ibm-q', group='open', project='main')>,\n",
       " <IBMQBackend('ibmq_rome') from IBMQ(hub='ibm-q', group='open', project='main')>]"
      ]
     },
     "execution_count": 17,
     "metadata": {},
     "output_type": "execute_result"
    }
   ],
   "source": [
    "# FILTERING THE BACKENDS\n",
    "# Only real devices:\n",
    "provider.backends(simulator=False, operational=True)"
   ]
  },
  {
   "cell_type": "code",
   "execution_count": 18,
   "metadata": {},
   "outputs": [
    {
     "data": {
      "text/plain": [
       "[<IBMQBackend('ibmq_16_melbourne') from IBMQ(hub='ibm-q', group='open', project='main')>]"
      ]
     },
     "execution_count": 18,
     "metadata": {},
     "output_type": "execute_result"
    }
   ],
   "source": [
    "# With more than 5 qb:\n",
    "provider.backends(filters=lambda x: x.configuration().n_qubits > 5\n",
    "                                    and not x.configuration().simulator\n",
    "                                    and x.status().operational==True)"
   ]
  },
  {
   "cell_type": "code",
   "execution_count": 19,
   "metadata": {},
   "outputs": [
    {
     "data": {
      "text/plain": [
       "<IBMQBackend('ibmqx2') from IBMQ(hub='ibm-q', group='open', project='main')>"
      ]
     },
     "execution_count": 19,
     "metadata": {},
     "output_type": "execute_result"
    }
   ],
   "source": [
    "# The device with less queue:\n",
    "from qiskit.providers.ibmq import least_busy\n",
    "\n",
    "small_devices = provider.backends(filters=lambda x: x.configuration().n_qubits > 3\n",
    "                                   and not x.configuration().simulator)\n",
    "least_busy(small_devices)"
   ]
  },
  {
   "cell_type": "code",
   "execution_count": 20,
   "metadata": {},
   "outputs": [],
   "source": [
    "# BACKENDS\n",
    "# Backends are both simulators and real devices"
   ]
  },
  {
   "cell_type": "code",
   "execution_count": 24,
   "metadata": {},
   "outputs": [
    {
     "data": {
      "text/plain": [
       "<AccountProvider for IBMQ(hub='ibm-q', group='open', project='main')>"
      ]
     },
     "execution_count": 24,
     "metadata": {},
     "output_type": "execute_result"
    }
   ],
   "source": [
    "backend = least_busy(small_devices)\n",
    "backend.provider()"
   ]
  },
  {
   "cell_type": "code",
   "execution_count": 25,
   "metadata": {},
   "outputs": [
    {
     "data": {
      "text/plain": [
       "'ibmqx2'"
      ]
     },
     "execution_count": 25,
     "metadata": {},
     "output_type": "execute_result"
    }
   ],
   "source": [
    "backend.name()"
   ]
  },
  {
   "cell_type": "code",
   "execution_count": 26,
   "metadata": {},
   "outputs": [
    {
     "data": {
      "text/plain": [
       "<qiskit.providers.models.backendstatus.BackendStatus at 0x1a25d427c88>"
      ]
     },
     "execution_count": 26,
     "metadata": {},
     "output_type": "execute_result"
    }
   ],
   "source": [
    "backend.status()"
   ]
  },
  {
   "cell_type": "code",
   "execution_count": 27,
   "metadata": {},
   "outputs": [
    {
     "data": {
      "text/plain": [
       "QasmBackendConfiguration(allow_object_storage=True, allow_q_object=True, backend_name='ibmqx2', backend_version='2.0.5', basis_gates=['u1', 'u2', 'u3', 'cx', 'id'], conditional=False, coupling_map=[[0, 1], [0, 2], [1, 0], [1, 2], [2, 0], [2, 1], [2, 3], [2, 4], [3, 2], [3, 4], [4, 2], [4, 3]], credits_required=True, description='5 qubit device', gates=[GateConfig(id, [], gate id q { U(0,0,0) q; }, [[0], [1], [2], [3], [4]]), GateConfig(u1, ['lambda'], gate u1(lambda) q { U(0,0,lambda) q; }, [[0], [1], [2], [3], [4]]), GateConfig(u2, ['phi', 'lambda'], gate u2(phi,lambda) q { U(pi/2,phi,lambda) q; }, [[0], [1], [2], [3], [4]]), GateConfig(u3, ['theta', 'phi', 'lambda'], gate u3(theta,phi,lambda) q { U(theta,phi,lambda) q; }, [[0], [1], [2], [3], [4]]), GateConfig(cx, [], gate cx q1,q2 { CX q1,q2; }, [[0, 1], [0, 2], [1, 0], [1, 2], [2, 0], [2, 1], [2, 3], [2, 4], [3, 2], [3, 4], [4, 2], [4, 3]])], local=False, max_experiments=75, max_shots=8192, meas_map=[[0, 1, 2, 3, 4]], memory=True, n_qubits=5, n_registers=1, online_date=datetime.datetime(2017, 1, 24, 5, 0, tzinfo=tzutc()), open_pulse=False, quantum_volume=8, sample_name='sparrow', simulator=False, url='None')"
      ]
     },
     "execution_count": 27,
     "metadata": {},
     "output_type": "execute_result"
    }
   ],
   "source": [
    "backend.configuration()"
   ]
  },
  {
   "cell_type": "code",
   "execution_count": 29,
   "metadata": {},
   "outputs": [
    {
     "data": {
      "text/plain": [
       "BackendProperties(_gates={'id': {(0,): {'gate_error': (0.000647144826227007, datetime.datetime(2020, 6, 4, 8, 34, 19, tzinfo=tzutc())), 'gate_length': (3.555555555555556e-08, datetime.datetime(2020, 6, 4, 9, 31, 23, tzinfo=tzutc()))}, (1,): {'gate_error': (0.0005796388522145202, datetime.datetime(2020, 6, 4, 8, 35, 38, tzinfo=tzutc())), 'gate_length': (3.555555555555556e-08, datetime.datetime(2020, 6, 4, 9, 31, 23, tzinfo=tzutc()))}, (2,): {'gate_error': (0.0008668852801652524, datetime.datetime(2020, 6, 4, 8, 37, 14, tzinfo=tzutc())), 'gate_length': (3.555555555555556e-08, datetime.datetime(2020, 6, 4, 9, 31, 23, tzinfo=tzutc()))}, (3,): {'gate_error': (0.0009764208337202288, datetime.datetime(2020, 6, 4, 8, 38, 34, tzinfo=tzutc())), 'gate_length': (3.555555555555556e-08, datetime.datetime(2020, 6, 4, 9, 31, 23, tzinfo=tzutc()))}, (4,): {'gate_error': (0.000641210787850324, datetime.datetime(2020, 6, 4, 8, 39, 55, tzinfo=tzutc())), 'gate_length': (3.555555555555556e-08, datetime.datetime(2020, 6, 4, 9, 31, 23, tzinfo=tzutc()))}}, 'u1': {(0,): {'gate_error': (0, datetime.datetime(2020, 6, 4, 8, 34, 19, tzinfo=tzutc())), 'gate_length': (0.0, datetime.datetime(2020, 6, 4, 9, 31, 23, tzinfo=tzutc()))}, (1,): {'gate_error': (0, datetime.datetime(2020, 6, 4, 8, 35, 38, tzinfo=tzutc())), 'gate_length': (0.0, datetime.datetime(2020, 6, 4, 9, 31, 23, tzinfo=tzutc()))}, (2,): {'gate_error': (0, datetime.datetime(2020, 6, 4, 8, 37, 14, tzinfo=tzutc())), 'gate_length': (0.0, datetime.datetime(2020, 6, 4, 9, 31, 23, tzinfo=tzutc()))}, (3,): {'gate_error': (0, datetime.datetime(2020, 6, 4, 8, 38, 34, tzinfo=tzutc())), 'gate_length': (0.0, datetime.datetime(2020, 6, 4, 9, 31, 23, tzinfo=tzutc()))}, (4,): {'gate_error': (0, datetime.datetime(2020, 6, 4, 8, 39, 55, tzinfo=tzutc())), 'gate_length': (0.0, datetime.datetime(2020, 6, 4, 9, 31, 23, tzinfo=tzutc()))}}, 'u2': {(0,): {'gate_error': (0.000647144826227007, datetime.datetime(2020, 6, 4, 8, 34, 19, tzinfo=tzutc())), 'gate_length': (3.555555555555556e-08, datetime.datetime(2020, 6, 4, 9, 31, 23, tzinfo=tzutc()))}, (1,): {'gate_error': (0.0005796388522145202, datetime.datetime(2020, 6, 4, 8, 35, 38, tzinfo=tzutc())), 'gate_length': (3.555555555555556e-08, datetime.datetime(2020, 6, 4, 9, 31, 23, tzinfo=tzutc()))}, (2,): {'gate_error': (0.0008668852801652524, datetime.datetime(2020, 6, 4, 8, 37, 14, tzinfo=tzutc())), 'gate_length': (3.555555555555556e-08, datetime.datetime(2020, 6, 4, 9, 31, 23, tzinfo=tzutc()))}, (3,): {'gate_error': (0.0009764208337202288, datetime.datetime(2020, 6, 4, 8, 38, 34, tzinfo=tzutc())), 'gate_length': (3.555555555555556e-08, datetime.datetime(2020, 6, 4, 9, 31, 23, tzinfo=tzutc()))}, (4,): {'gate_error': (0.000641210787850324, datetime.datetime(2020, 6, 4, 8, 39, 55, tzinfo=tzutc())), 'gate_length': (3.555555555555556e-08, datetime.datetime(2020, 6, 4, 9, 31, 23, tzinfo=tzutc()))}}, 'u3': {(0,): {'gate_error': (0.0012938708560278345, datetime.datetime(2020, 6, 4, 8, 34, 19, tzinfo=tzutc())), 'gate_length': (7.111111111111112e-08, datetime.datetime(2020, 6, 4, 9, 31, 23, tzinfo=tzutc()))}, (1,): {'gate_error': (0.0011589417232301669, datetime.datetime(2020, 6, 4, 8, 35, 38, tzinfo=tzutc())), 'gate_length': (7.111111111111112e-08, datetime.datetime(2020, 6, 4, 9, 31, 23, tzinfo=tzutc()))}, (2,): {'gate_error': (0.0017330190702414816, datetime.datetime(2020, 6, 4, 8, 37, 14, tzinfo=tzutc())), 'gate_length': (7.111111111111112e-08, datetime.datetime(2020, 6, 4, 9, 31, 23, tzinfo=tzutc()))}, (3,): {'gate_error': (0.001951888269795865, datetime.datetime(2020, 6, 4, 8, 38, 34, tzinfo=tzutc())), 'gate_length': (7.111111111111112e-08, datetime.datetime(2020, 6, 4, 9, 31, 23, tzinfo=tzutc()))}, (4,): {'gate_error': (0.0012820104244261055, datetime.datetime(2020, 6, 4, 8, 39, 55, tzinfo=tzutc())), 'gate_length': (7.111111111111112e-08, datetime.datetime(2020, 6, 4, 9, 31, 23, tzinfo=tzutc()))}}, 'cx': {(0, 1): {'gate_error': (0.015695281537723205, datetime.datetime(2020, 6, 4, 8, 50, 32, tzinfo=tzutc())), 'gate_length': (3.697777777777778e-07, datetime.datetime(2020, 6, 4, 9, 31, 23, tzinfo=tzutc()))}, (0, 2): {'gate_error': (0.02060873578049152, datetime.datetime(2020, 6, 4, 9, 0, 53, tzinfo=tzutc())), 'gate_length': (4.4800000000000004e-07, datetime.datetime(2020, 6, 4, 9, 31, 23, tzinfo=tzutc()))}, (1, 0): {'gate_error': (0.015695281537723205, datetime.datetime(2020, 6, 4, 8, 50, 32, tzinfo=tzutc())), 'gate_length': (4.0533333333333336e-07, datetime.datetime(2020, 6, 4, 9, 31, 23, tzinfo=tzutc()))}, (1, 2): {'gate_error': (0.022869070039861494, datetime.datetime(2020, 6, 4, 9, 6, 23, tzinfo=tzutc())), 'gate_length': (5.12e-07, datetime.datetime(2020, 6, 4, 9, 31, 23, tzinfo=tzutc()))}, (2, 0): {'gate_error': (0.02060873578049152, datetime.datetime(2020, 6, 4, 9, 0, 53, tzinfo=tzutc())), 'gate_length': (4.835555555555556e-07, datetime.datetime(2020, 6, 4, 9, 31, 23, tzinfo=tzutc()))}, (2, 1): {'gate_error': (0.022869070039861494, datetime.datetime(2020, 6, 4, 9, 6, 23, tzinfo=tzutc())), 'gate_length': (5.475555555555556e-07, datetime.datetime(2020, 6, 4, 9, 31, 23, tzinfo=tzutc()))}, (2, 3): {'gate_error': (0.018814384547609614, datetime.datetime(2020, 6, 4, 9, 11, 13, tzinfo=tzutc())), 'gate_length': (4.622222222222222e-07, datetime.datetime(2020, 6, 4, 9, 31, 23, tzinfo=tzutc()))}, (2, 4): {'gate_error': (0.016471760361298604, datetime.datetime(2020, 6, 4, 9, 31, 23, tzinfo=tzutc())), 'gate_length': (3.911111111111111e-07, datetime.datetime(2020, 6, 4, 9, 31, 23, tzinfo=tzutc()))}, (3, 2): {'gate_error': (0.018814384547609614, datetime.datetime(2020, 6, 4, 9, 11, 13, tzinfo=tzutc())), 'gate_length': (4.266666666666667e-07, datetime.datetime(2020, 6, 4, 9, 31, 23, tzinfo=tzutc()))}, (3, 4): {'gate_error': (0.017424987207334763, datetime.datetime(2020, 6, 4, 9, 21, 18, tzinfo=tzutc())), 'gate_length': (4.124444444444444e-07, datetime.datetime(2020, 6, 4, 9, 31, 23, tzinfo=tzutc()))}, (4, 2): {'gate_error': (0.016471760361298604, datetime.datetime(2020, 6, 4, 9, 31, 23, tzinfo=tzutc())), 'gate_length': (3.555555555555556e-07, datetime.datetime(2020, 6, 4, 9, 31, 23, tzinfo=tzutc()))}, (4, 3): {'gate_error': (0.017424987207334763, datetime.datetime(2020, 6, 4, 9, 21, 18, tzinfo=tzutc())), 'gate_length': (4.4800000000000004e-07, datetime.datetime(2020, 6, 4, 9, 31, 23, tzinfo=tzutc()))}}}, _qubits={0: {'T1': (5.969662233609474e-05, datetime.datetime(2020, 6, 4, 8, 30, 12, tzinfo=tzutc())), 'T2': (7.229353849887239e-05, datetime.datetime(2020, 6, 4, 8, 31, 1, tzinfo=tzutc())), 'frequency': (5286411627.577741, datetime.datetime(2020, 6, 4, 9, 31, 23, tzinfo=tzutc())), 'readout_error': (0.013000000000000012, datetime.datetime(2020, 6, 4, 8, 29, 57, tzinfo=tzutc())), 'prob_meas0_prep1': (0.018000000000000016, datetime.datetime(2020, 6, 4, 8, 29, 57, tzinfo=tzutc())), 'prob_meas1_prep0': (0.008, datetime.datetime(2020, 6, 4, 8, 29, 57, tzinfo=tzutc()))}, 1: {'T1': (7.200466806887165e-05, datetime.datetime(2020, 6, 4, 8, 30, 12, tzinfo=tzutc())), 'T2': (8.943819316427585e-05, datetime.datetime(2020, 6, 4, 8, 32, 7, tzinfo=tzutc())), 'frequency': (5238266104.297827, datetime.datetime(2020, 6, 4, 9, 31, 23, tzinfo=tzutc())), 'readout_error': (0.029000000000000026, datetime.datetime(2020, 6, 4, 8, 29, 57, tzinfo=tzutc())), 'prob_meas0_prep1': (0.038000000000000034, datetime.datetime(2020, 6, 4, 8, 29, 57, tzinfo=tzutc())), 'prob_meas1_prep0': (0.02, datetime.datetime(2020, 6, 4, 8, 29, 57, tzinfo=tzutc()))}, 2: {'T1': (6.277080903395002e-05, datetime.datetime(2020, 6, 4, 8, 30, 12, tzinfo=tzutc())), 'T2': (7.436438689978822e-05, datetime.datetime(2020, 6, 4, 8, 32, 44, tzinfo=tzutc())), 'frequency': (5030460829.163232, datetime.datetime(2020, 6, 4, 9, 31, 23, tzinfo=tzutc())), 'readout_error': (0.028000000000000025, datetime.datetime(2020, 6, 4, 8, 29, 57, tzinfo=tzutc())), 'prob_meas0_prep1': (0.049000000000000044, datetime.datetime(2020, 6, 4, 8, 29, 57, tzinfo=tzutc())), 'prob_meas1_prep0': (0.007, datetime.datetime(2020, 6, 4, 8, 29, 57, tzinfo=tzutc()))}, 3: {'T1': (6.521592857235635e-05, datetime.datetime(2020, 6, 4, 8, 30, 12, tzinfo=tzutc())), 'T2': (3.960060304833969e-05, datetime.datetime(2020, 6, 4, 8, 31, 1, tzinfo=tzutc())), 'frequency': (5295595642.883762, datetime.datetime(2020, 6, 4, 9, 31, 23, tzinfo=tzutc())), 'readout_error': (0.024499999999999966, datetime.datetime(2020, 6, 4, 8, 29, 57, tzinfo=tzutc())), 'prob_meas0_prep1': (0.027000000000000024, datetime.datetime(2020, 6, 4, 8, 29, 57, tzinfo=tzutc())), 'prob_meas1_prep0': (0.022, datetime.datetime(2020, 6, 4, 8, 29, 57, tzinfo=tzutc()))}, 4: {'T1': (5.5755766466167726e-05, datetime.datetime(2020, 6, 4, 8, 30, 12, tzinfo=tzutc())), 'T2': (6.431978351383608e-05, datetime.datetime(2020, 6, 4, 8, 32, 7, tzinfo=tzutc())), 'frequency': (5084381852.221128, datetime.datetime(2020, 6, 4, 9, 31, 23, tzinfo=tzutc())), 'readout_error': (0.016000000000000014, datetime.datetime(2020, 6, 4, 8, 29, 57, tzinfo=tzutc())), 'prob_meas0_prep1': (0.02200000000000002, datetime.datetime(2020, 6, 4, 8, 29, 57, tzinfo=tzutc())), 'prob_meas1_prep0': (0.01, datetime.datetime(2020, 6, 4, 8, 29, 57, tzinfo=tzutc()))}}, backend_name='ibmqx2', backend_version='2.0.5', gates=[Gate(gate='id', name='id_0', parameters=[Nduv(datetime.datetime(2020, 6, 4, 8, 34, 19, tzinfo=tzutc()), gate_error, , 0.000647144826227007), Nduv(datetime.datetime(2020, 6, 4, 9, 31, 23, tzinfo=tzutc()), gate_length, ns, 35.55555555555556)], qubits=[0]), Gate(gate='u1', name='u1_0', parameters=[Nduv(datetime.datetime(2020, 6, 4, 8, 34, 19, tzinfo=tzutc()), gate_error, , 0), Nduv(datetime.datetime(2020, 6, 4, 9, 31, 23, tzinfo=tzutc()), gate_length, ns, 0)], qubits=[0]), Gate(gate='u2', name='u2_0', parameters=[Nduv(datetime.datetime(2020, 6, 4, 8, 34, 19, tzinfo=tzutc()), gate_error, , 0.000647144826227007), Nduv(datetime.datetime(2020, 6, 4, 9, 31, 23, tzinfo=tzutc()), gate_length, ns, 35.55555555555556)], qubits=[0]), Gate(gate='u3', name='u3_0', parameters=[Nduv(datetime.datetime(2020, 6, 4, 8, 34, 19, tzinfo=tzutc()), gate_error, , 0.0012938708560278345), Nduv(datetime.datetime(2020, 6, 4, 9, 31, 23, tzinfo=tzutc()), gate_length, ns, 71.11111111111111)], qubits=[0]), Gate(gate='id', name='id_1', parameters=[Nduv(datetime.datetime(2020, 6, 4, 8, 35, 38, tzinfo=tzutc()), gate_error, , 0.0005796388522145202), Nduv(datetime.datetime(2020, 6, 4, 9, 31, 23, tzinfo=tzutc()), gate_length, ns, 35.55555555555556)], qubits=[1]), Gate(gate='u1', name='u1_1', parameters=[Nduv(datetime.datetime(2020, 6, 4, 8, 35, 38, tzinfo=tzutc()), gate_error, , 0), Nduv(datetime.datetime(2020, 6, 4, 9, 31, 23, tzinfo=tzutc()), gate_length, ns, 0)], qubits=[1]), Gate(gate='u2', name='u2_1', parameters=[Nduv(datetime.datetime(2020, 6, 4, 8, 35, 38, tzinfo=tzutc()), gate_error, , 0.0005796388522145202), Nduv(datetime.datetime(2020, 6, 4, 9, 31, 23, tzinfo=tzutc()), gate_length, ns, 35.55555555555556)], qubits=[1]), Gate(gate='u3', name='u3_1', parameters=[Nduv(datetime.datetime(2020, 6, 4, 8, 35, 38, tzinfo=tzutc()), gate_error, , 0.0011589417232301669), Nduv(datetime.datetime(2020, 6, 4, 9, 31, 23, tzinfo=tzutc()), gate_length, ns, 71.11111111111111)], qubits=[1]), Gate(gate='id', name='id_2', parameters=[Nduv(datetime.datetime(2020, 6, 4, 8, 37, 14, tzinfo=tzutc()), gate_error, , 0.0008668852801652524), Nduv(datetime.datetime(2020, 6, 4, 9, 31, 23, tzinfo=tzutc()), gate_length, ns, 35.55555555555556)], qubits=[2]), Gate(gate='u1', name='u1_2', parameters=[Nduv(datetime.datetime(2020, 6, 4, 8, 37, 14, tzinfo=tzutc()), gate_error, , 0), Nduv(datetime.datetime(2020, 6, 4, 9, 31, 23, tzinfo=tzutc()), gate_length, ns, 0)], qubits=[2]), Gate(gate='u2', name='u2_2', parameters=[Nduv(datetime.datetime(2020, 6, 4, 8, 37, 14, tzinfo=tzutc()), gate_error, , 0.0008668852801652524), Nduv(datetime.datetime(2020, 6, 4, 9, 31, 23, tzinfo=tzutc()), gate_length, ns, 35.55555555555556)], qubits=[2]), Gate(gate='u3', name='u3_2', parameters=[Nduv(datetime.datetime(2020, 6, 4, 8, 37, 14, tzinfo=tzutc()), gate_error, , 0.0017330190702414816), Nduv(datetime.datetime(2020, 6, 4, 9, 31, 23, tzinfo=tzutc()), gate_length, ns, 71.11111111111111)], qubits=[2]), Gate(gate='id', name='id_3', parameters=[Nduv(datetime.datetime(2020, 6, 4, 8, 38, 34, tzinfo=tzutc()), gate_error, , 0.0009764208337202288), Nduv(datetime.datetime(2020, 6, 4, 9, 31, 23, tzinfo=tzutc()), gate_length, ns, 35.55555555555556)], qubits=[3]), Gate(gate='u1', name='u1_3', parameters=[Nduv(datetime.datetime(2020, 6, 4, 8, 38, 34, tzinfo=tzutc()), gate_error, , 0), Nduv(datetime.datetime(2020, 6, 4, 9, 31, 23, tzinfo=tzutc()), gate_length, ns, 0)], qubits=[3]), Gate(gate='u2', name='u2_3', parameters=[Nduv(datetime.datetime(2020, 6, 4, 8, 38, 34, tzinfo=tzutc()), gate_error, , 0.0009764208337202288), Nduv(datetime.datetime(2020, 6, 4, 9, 31, 23, tzinfo=tzutc()), gate_length, ns, 35.55555555555556)], qubits=[3]), Gate(gate='u3', name='u3_3', parameters=[Nduv(datetime.datetime(2020, 6, 4, 8, 38, 34, tzinfo=tzutc()), gate_error, , 0.001951888269795865), Nduv(datetime.datetime(2020, 6, 4, 9, 31, 23, tzinfo=tzutc()), gate_length, ns, 71.11111111111111)], qubits=[3]), Gate(gate='id', name='id_4', parameters=[Nduv(datetime.datetime(2020, 6, 4, 8, 39, 55, tzinfo=tzutc()), gate_error, , 0.000641210787850324), Nduv(datetime.datetime(2020, 6, 4, 9, 31, 23, tzinfo=tzutc()), gate_length, ns, 35.55555555555556)], qubits=[4]), Gate(gate='u1', name='u1_4', parameters=[Nduv(datetime.datetime(2020, 6, 4, 8, 39, 55, tzinfo=tzutc()), gate_error, , 0), Nduv(datetime.datetime(2020, 6, 4, 9, 31, 23, tzinfo=tzutc()), gate_length, ns, 0)], qubits=[4]), Gate(gate='u2', name='u2_4', parameters=[Nduv(datetime.datetime(2020, 6, 4, 8, 39, 55, tzinfo=tzutc()), gate_error, , 0.000641210787850324), Nduv(datetime.datetime(2020, 6, 4, 9, 31, 23, tzinfo=tzutc()), gate_length, ns, 35.55555555555556)], qubits=[4]), Gate(gate='u3', name='u3_4', parameters=[Nduv(datetime.datetime(2020, 6, 4, 8, 39, 55, tzinfo=tzutc()), gate_error, , 0.0012820104244261055), Nduv(datetime.datetime(2020, 6, 4, 9, 31, 23, tzinfo=tzutc()), gate_length, ns, 71.11111111111111)], qubits=[4]), Gate(gate='cx', name='cx0_1', parameters=[Nduv(datetime.datetime(2020, 6, 4, 8, 50, 32, tzinfo=tzutc()), gate_error, , 0.015695281537723205), Nduv(datetime.datetime(2020, 6, 4, 9, 31, 23, tzinfo=tzutc()), gate_length, ns, 369.77777777777777)], qubits=[0, 1]), Gate(gate='cx', name='cx0_2', parameters=[Nduv(datetime.datetime(2020, 6, 4, 9, 0, 53, tzinfo=tzutc()), gate_error, , 0.02060873578049152), Nduv(datetime.datetime(2020, 6, 4, 9, 31, 23, tzinfo=tzutc()), gate_length, ns, 448)], qubits=[0, 2]), Gate(gate='cx', name='cx1_0', parameters=[Nduv(datetime.datetime(2020, 6, 4, 8, 50, 32, tzinfo=tzutc()), gate_error, , 0.015695281537723205), Nduv(datetime.datetime(2020, 6, 4, 9, 31, 23, tzinfo=tzutc()), gate_length, ns, 405.3333333333333)], qubits=[1, 0]), Gate(gate='cx', name='cx1_2', parameters=[Nduv(datetime.datetime(2020, 6, 4, 9, 6, 23, tzinfo=tzutc()), gate_error, , 0.022869070039861494), Nduv(datetime.datetime(2020, 6, 4, 9, 31, 23, tzinfo=tzutc()), gate_length, ns, 512)], qubits=[1, 2]), Gate(gate='cx', name='cx2_0', parameters=[Nduv(datetime.datetime(2020, 6, 4, 9, 0, 53, tzinfo=tzutc()), gate_error, , 0.02060873578049152), Nduv(datetime.datetime(2020, 6, 4, 9, 31, 23, tzinfo=tzutc()), gate_length, ns, 483.55555555555554)], qubits=[2, 0]), Gate(gate='cx', name='cx2_1', parameters=[Nduv(datetime.datetime(2020, 6, 4, 9, 6, 23, tzinfo=tzutc()), gate_error, , 0.022869070039861494), Nduv(datetime.datetime(2020, 6, 4, 9, 31, 23, tzinfo=tzutc()), gate_length, ns, 547.5555555555555)], qubits=[2, 1]), Gate(gate='cx', name='cx2_3', parameters=[Nduv(datetime.datetime(2020, 6, 4, 9, 11, 13, tzinfo=tzutc()), gate_error, , 0.018814384547609614), Nduv(datetime.datetime(2020, 6, 4, 9, 31, 23, tzinfo=tzutc()), gate_length, ns, 462.2222222222222)], qubits=[2, 3]), Gate(gate='cx', name='cx2_4', parameters=[Nduv(datetime.datetime(2020, 6, 4, 9, 31, 23, tzinfo=tzutc()), gate_error, , 0.016471760361298604), Nduv(datetime.datetime(2020, 6, 4, 9, 31, 23, tzinfo=tzutc()), gate_length, ns, 391.1111111111111)], qubits=[2, 4]), Gate(gate='cx', name='cx3_2', parameters=[Nduv(datetime.datetime(2020, 6, 4, 9, 11, 13, tzinfo=tzutc()), gate_error, , 0.018814384547609614), Nduv(datetime.datetime(2020, 6, 4, 9, 31, 23, tzinfo=tzutc()), gate_length, ns, 426.66666666666663)], qubits=[3, 2]), Gate(gate='cx', name='cx3_4', parameters=[Nduv(datetime.datetime(2020, 6, 4, 9, 21, 18, tzinfo=tzutc()), gate_error, , 0.017424987207334763), Nduv(datetime.datetime(2020, 6, 4, 9, 31, 23, tzinfo=tzutc()), gate_length, ns, 412.4444444444444)], qubits=[3, 4]), Gate(gate='cx', name='cx4_2', parameters=[Nduv(datetime.datetime(2020, 6, 4, 9, 31, 23, tzinfo=tzutc()), gate_error, , 0.016471760361298604), Nduv(datetime.datetime(2020, 6, 4, 9, 31, 23, tzinfo=tzutc()), gate_length, ns, 355.55555555555554)], qubits=[4, 2]), Gate(gate='cx', name='cx4_3', parameters=[Nduv(datetime.datetime(2020, 6, 4, 9, 21, 18, tzinfo=tzutc()), gate_error, , 0.017424987207334763), Nduv(datetime.datetime(2020, 6, 4, 9, 31, 23, tzinfo=tzutc()), gate_length, ns, 448)], qubits=[4, 3])], general=[], last_update_date=datetime.datetime(2020, 6, 4, 9, 31, 23, tzinfo=tzutc()), qubits=[[Nduv(datetime.datetime(2020, 6, 4, 8, 30, 12, tzinfo=tzutc()), T1, µs, 59.69662233609474), Nduv(datetime.datetime(2020, 6, 4, 8, 31, 1, tzinfo=tzutc()), T2, µs, 72.2935384988724), Nduv(datetime.datetime(2020, 6, 4, 9, 31, 23, tzinfo=tzutc()), frequency, GHz, 5.286411627577741), Nduv(datetime.datetime(2020, 6, 4, 8, 29, 57, tzinfo=tzutc()), readout_error, , 0.013000000000000012), Nduv(datetime.datetime(2020, 6, 4, 8, 29, 57, tzinfo=tzutc()), prob_meas0_prep1, , 0.018000000000000016), Nduv(datetime.datetime(2020, 6, 4, 8, 29, 57, tzinfo=tzutc()), prob_meas1_prep0, , 0.008)], [Nduv(datetime.datetime(2020, 6, 4, 8, 30, 12, tzinfo=tzutc()), T1, µs, 72.00466806887165), Nduv(datetime.datetime(2020, 6, 4, 8, 32, 7, tzinfo=tzutc()), T2, µs, 89.43819316427586), Nduv(datetime.datetime(2020, 6, 4, 9, 31, 23, tzinfo=tzutc()), frequency, GHz, 5.238266104297827), Nduv(datetime.datetime(2020, 6, 4, 8, 29, 57, tzinfo=tzutc()), readout_error, , 0.029000000000000026), Nduv(datetime.datetime(2020, 6, 4, 8, 29, 57, tzinfo=tzutc()), prob_meas0_prep1, , 0.038000000000000034), Nduv(datetime.datetime(2020, 6, 4, 8, 29, 57, tzinfo=tzutc()), prob_meas1_prep0, , 0.02)], [Nduv(datetime.datetime(2020, 6, 4, 8, 30, 12, tzinfo=tzutc()), T1, µs, 62.770809033950016), Nduv(datetime.datetime(2020, 6, 4, 8, 32, 44, tzinfo=tzutc()), T2, µs, 74.36438689978822), Nduv(datetime.datetime(2020, 6, 4, 9, 31, 23, tzinfo=tzutc()), frequency, GHz, 5.030460829163232), Nduv(datetime.datetime(2020, 6, 4, 8, 29, 57, tzinfo=tzutc()), readout_error, , 0.028000000000000025), Nduv(datetime.datetime(2020, 6, 4, 8, 29, 57, tzinfo=tzutc()), prob_meas0_prep1, , 0.049000000000000044), Nduv(datetime.datetime(2020, 6, 4, 8, 29, 57, tzinfo=tzutc()), prob_meas1_prep0, , 0.007)], [Nduv(datetime.datetime(2020, 6, 4, 8, 30, 12, tzinfo=tzutc()), T1, µs, 65.21592857235636), Nduv(datetime.datetime(2020, 6, 4, 8, 31, 1, tzinfo=tzutc()), T2, µs, 39.60060304833969), Nduv(datetime.datetime(2020, 6, 4, 9, 31, 23, tzinfo=tzutc()), frequency, GHz, 5.295595642883763), Nduv(datetime.datetime(2020, 6, 4, 8, 29, 57, tzinfo=tzutc()), readout_error, , 0.024499999999999966), Nduv(datetime.datetime(2020, 6, 4, 8, 29, 57, tzinfo=tzutc()), prob_meas0_prep1, , 0.027000000000000024), Nduv(datetime.datetime(2020, 6, 4, 8, 29, 57, tzinfo=tzutc()), prob_meas1_prep0, , 0.022)], [Nduv(datetime.datetime(2020, 6, 4, 8, 30, 12, tzinfo=tzutc()), T1, µs, 55.75576646616773), Nduv(datetime.datetime(2020, 6, 4, 8, 32, 7, tzinfo=tzutc()), T2, µs, 64.31978351383609), Nduv(datetime.datetime(2020, 6, 4, 9, 31, 23, tzinfo=tzutc()), frequency, GHz, 5.084381852221129), Nduv(datetime.datetime(2020, 6, 4, 8, 29, 57, tzinfo=tzutc()), readout_error, , 0.016000000000000014), Nduv(datetime.datetime(2020, 6, 4, 8, 29, 57, tzinfo=tzutc()), prob_meas0_prep1, , 0.02200000000000002), Nduv(datetime.datetime(2020, 6, 4, 8, 29, 57, tzinfo=tzutc()), prob_meas1_prep0, , 0.01)]])"
      ]
     },
     "execution_count": 29,
     "metadata": {},
     "output_type": "execute_result"
    }
   ],
   "source": [
    "backend.properties()"
   ]
  },
  {
   "cell_type": "code",
   "execution_count": 30,
   "metadata": {},
   "outputs": [
    {
     "name": "stdout",
     "output_type": "stream",
     "text": [
      "5ddd9fa7329c820012d88771 JobStatus.CANCELLED\n"
     ]
    }
   ],
   "source": [
    "# To see the last 5 jobs:\n",
    "for ran_job in backend.jobs(limit=5):\n",
    "    print(str(ran_job.job_id()) + \" \" + str(ran_job.status()))"
   ]
  },
  {
   "cell_type": "code",
   "execution_count": 31,
   "metadata": {},
   "outputs": [],
   "source": [
    "# A job can be retrieved with his id\n",
    "job = backend.retrieve_job(ran_job.job_id())"
   ]
  }
 ],
 "metadata": {
  "kernelspec": {
   "display_name": "Python 3",
   "language": "python",
   "name": "python3"
  },
  "language_info": {
   "codemirror_mode": {
    "name": "ipython",
    "version": 3
   },
   "file_extension": ".py",
   "mimetype": "text/x-python",
   "name": "python",
   "nbconvert_exporter": "python",
   "pygments_lexer": "ipython3",
   "version": "3.7.4"
  }
 },
 "nbformat": 4,
 "nbformat_minor": 2
}
