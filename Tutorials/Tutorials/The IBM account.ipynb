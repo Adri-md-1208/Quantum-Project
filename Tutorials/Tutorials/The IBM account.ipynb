{
 "cells": [
  {
   "cell_type": "code",
   "execution_count": 2,
   "metadata": {},
   "outputs": [],
   "source": [
    "from qiskit import IBMQ"
   ]
  },
  {
   "cell_type": "code",
   "execution_count": 3,
   "metadata": {},
   "outputs": [],
   "source": [
    "#The ACCOUNT\n",
    "#The IBMQ account object has functions for handling administrative tasks"
   ]
  },
  {
   "cell_type": "code",
   "execution_count": 4,
   "metadata": {},
   "outputs": [],
   "source": [
    "#Delete the accounts exiting in the disk\n",
    "IBMQ.delete_account()"
   ]
  },
  {
   "cell_type": "code",
   "execution_count": 5,
   "metadata": {},
   "outputs": [
    {
     "data": {
      "text/plain": [
       "<AccountProvider for IBMQ(hub='ibm-q', group='open', project='main')>"
      ]
     },
     "execution_count": 5,
     "metadata": {},
     "output_type": "execute_result"
    }
   ],
   "source": [
    "#Enable your account in the current season\n",
    "IBMQ.enable_account('83158fa83d295a4256b792eed90ad3696380500c9752858f5693cd5cfa0cc34e5ae82429acc43813fe1222c6cfdb9a5dc5313118c64be9299cff625976ed5835')"
   ]
  },
  {
   "cell_type": "code",
   "execution_count": 7,
   "metadata": {},
   "outputs": [
    {
     "name": "stderr",
     "output_type": "stream",
     "text": [
      "configrc.store_credentials:WARNING:2020-06-05 21:30:11,642: Credentials already present. Set overwrite=True to overwrite.\n"
     ]
    }
   ],
   "source": [
    "#Save the account on the disk\n",
    "IBMQ.save_account('83158fa83d295a4256b792eed90ad3696380500c9752858f5693cd5cfa0cc34e5ae82429acc43813fe1222c6cfdb9a5dc5313118c64be9299cff625976ed5835')"
   ]
  },
  {
   "cell_type": "code",
   "execution_count": 8,
   "metadata": {},
   "outputs": [],
   "source": [
    "#Disable the account for the current season\n",
    "IBMQ.disable_account()"
   ]
  },
  {
   "cell_type": "code",
   "execution_count": 9,
   "metadata": {},
   "outputs": [
    {
     "data": {
      "text/plain": [
       "<AccountProvider for IBMQ(hub='ibm-q', group='open', project='main')>"
      ]
     },
     "execution_count": 9,
     "metadata": {},
     "output_type": "execute_result"
    }
   ],
   "source": [
    "#Load the account from the disk\n",
    "IBMQ.load_account()"
   ]
  },
  {
   "cell_type": "code",
   "execution_count": 10,
   "metadata": {},
   "outputs": [
    {
     "data": {
      "text/plain": [
       "{'token': '83158fa83d295a4256b792eed90ad3696380500c9752858f5693cd5cfa0cc34e5ae82429acc43813fe1222c6cfdb9a5dc5313118c64be9299cff625976ed5835',\n",
       " 'url': 'https://auth.quantum-computing.ibm.com/api'}"
      ]
     },
     "execution_count": 10,
     "metadata": {},
     "output_type": "execute_result"
    }
   ],
   "source": [
    "#Output a list of the accounts saved in the disk\n",
    "IBMQ.stored_account()"
   ]
  },
  {
   "cell_type": "code",
   "execution_count": 11,
   "metadata": {},
   "outputs": [
    {
     "data": {
      "text/plain": [
       "{'token': '83158fa83d295a4256b792eed90ad3696380500c9752858f5693cd5cfa0cc34e5ae82429acc43813fe1222c6cfdb9a5dc5313118c64be9299cff625976ed5835',\n",
       " 'url': 'https://auth.quantum-computing.ibm.com/api'}"
      ]
     },
     "execution_count": 11,
     "metadata": {},
     "output_type": "execute_result"
    }
   ],
   "source": [
    "#Output the account of the current season\n",
    "IBMQ.active_account()"
   ]
  },
  {
   "cell_type": "code",
   "execution_count": 12,
   "metadata": {},
   "outputs": [
    {
     "data": {
      "text/plain": [
       "[<IBMQSimulator('ibmq_qasm_simulator') from IBMQ(hub='ibm-q', group='open', project='main')>,\n",
       " <IBMQBackend('ibmqx2') from IBMQ(hub='ibm-q', group='open', project='main')>,\n",
       " <IBMQBackend('ibmq_16_melbourne') from IBMQ(hub='ibm-q', group='open', project='main')>,\n",
       " <IBMQBackend('ibmq_vigo') from IBMQ(hub='ibm-q', group='open', project='main')>,\n",
       " <IBMQBackend('ibmq_ourense') from IBMQ(hub='ibm-q', group='open', project='main')>,\n",
       " <IBMQBackend('ibmq_london') from IBMQ(hub='ibm-q', group='open', project='main')>,\n",
       " <IBMQBackend('ibmq_burlington') from IBMQ(hub='ibm-q', group='open', project='main')>,\n",
       " <IBMQBackend('ibmq_essex') from IBMQ(hub='ibm-q', group='open', project='main')>,\n",
       " <IBMQBackend('ibmq_armonk') from IBMQ(hub='ibm-q', group='open', project='main')>,\n",
       " <IBMQBackend('ibmq_rome') from IBMQ(hub='ibm-q', group='open', project='main')>]"
      ]
     },
     "execution_count": 12,
     "metadata": {},
     "output_type": "execute_result"
    }
   ],
   "source": [
    "# THE PROVIDER \n",
    "# The backends allowed in my account\n",
    "provider = IBMQ.get_provider(hub='ibm-q')\n",
    "provider.backends()"
   ]
  },
  {
   "cell_type": "code",
   "execution_count": 13,
   "metadata": {},
   "outputs": [
    {
     "data": {
      "text/plain": [
       "<IBMQBackend('ibmq_16_melbourne') from IBMQ(hub='ibm-q', group='open', project='main')>"
      ]
     },
     "execution_count": 13,
     "metadata": {},
     "output_type": "execute_result"
    }
   ],
   "source": [
    "# Selecting one\n",
    "backend = provider.get_backend('ibmq_16_melbourne')\n",
    "backend"
   ]
  },
  {
   "cell_type": "code",
   "execution_count": 14,
   "metadata": {},
   "outputs": [
    {
     "data": {
      "text/plain": [
       "[<IBMQBackend('ibmqx2') from IBMQ(hub='ibm-q', group='open', project='main')>,\n",
       " <IBMQBackend('ibmq_16_melbourne') from IBMQ(hub='ibm-q', group='open', project='main')>,\n",
       " <IBMQBackend('ibmq_vigo') from IBMQ(hub='ibm-q', group='open', project='main')>,\n",
       " <IBMQBackend('ibmq_ourense') from IBMQ(hub='ibm-q', group='open', project='main')>,\n",
       " <IBMQBackend('ibmq_london') from IBMQ(hub='ibm-q', group='open', project='main')>,\n",
       " <IBMQBackend('ibmq_burlington') from IBMQ(hub='ibm-q', group='open', project='main')>,\n",
       " <IBMQBackend('ibmq_essex') from IBMQ(hub='ibm-q', group='open', project='main')>,\n",
       " <IBMQBackend('ibmq_armonk') from IBMQ(hub='ibm-q', group='open', project='main')>,\n",
       " <IBMQBackend('ibmq_rome') from IBMQ(hub='ibm-q', group='open', project='main')>]"
      ]
     },
     "execution_count": 14,
     "metadata": {},
     "output_type": "execute_result"
    }
   ],
   "source": [
    "# FILTERING THE BACKENDS\n",
    "# Only real devices:\n",
    "provider.backends(simulator=False, operational=True)"
   ]
  },
  {
   "cell_type": "code",
   "execution_count": 15,
   "metadata": {},
   "outputs": [
    {
     "data": {
      "text/plain": [
       "[<IBMQBackend('ibmq_16_melbourne') from IBMQ(hub='ibm-q', group='open', project='main')>]"
      ]
     },
     "execution_count": 15,
     "metadata": {},
     "output_type": "execute_result"
    }
   ],
   "source": [
    "# With more than 5 qb:\n",
    "provider.backends(filters=lambda x: x.configuration().n_qubits > 5\n",
    "                                    and not x.configuration().simulator\n",
    "                                    and x.status().operational==True)"
   ]
  },
  {
   "cell_type": "code",
   "execution_count": 16,
   "metadata": {},
   "outputs": [
    {
     "data": {
      "text/plain": [
       "<IBMQBackend('ibmqx2') from IBMQ(hub='ibm-q', group='open', project='main')>"
      ]
     },
     "execution_count": 16,
     "metadata": {},
     "output_type": "execute_result"
    }
   ],
   "source": [
    "# The device with less queue:\n",
    "from qiskit.providers.ibmq import least_busy\n",
    "\n",
    "small_devices = provider.backends(filters=lambda x: x.configuration().n_qubits > 3\n",
    "                                   and not x.configuration().simulator)\n",
    "least_busy(small_devices)"
   ]
  },
  {
   "cell_type": "code",
   "execution_count": 17,
   "metadata": {},
   "outputs": [],
   "source": [
    "# BACKENDS\n",
    "# Backends are both simulators and real devices"
   ]
  },
  {
   "cell_type": "code",
   "execution_count": 18,
   "metadata": {},
   "outputs": [
    {
     "data": {
      "text/plain": [
       "<AccountProvider for IBMQ(hub='ibm-q', group='open', project='main')>"
      ]
     },
     "execution_count": 18,
     "metadata": {},
     "output_type": "execute_result"
    }
   ],
   "source": [
    "backend = least_busy(small_devices)\n",
    "backend.provider()"
   ]
  },
  {
   "cell_type": "code",
   "execution_count": 19,
   "metadata": {},
   "outputs": [
    {
     "data": {
      "text/plain": [
       "'ibmqx2'"
      ]
     },
     "execution_count": 19,
     "metadata": {},
     "output_type": "execute_result"
    }
   ],
   "source": [
    "backend.name()"
   ]
  },
  {
   "cell_type": "code",
   "execution_count": 20,
   "metadata": {},
   "outputs": [
    {
     "data": {
      "text/plain": [
       "<qiskit.providers.models.backendstatus.BackendStatus at 0x23488f14088>"
      ]
     },
     "execution_count": 20,
     "metadata": {},
     "output_type": "execute_result"
    }
   ],
   "source": [
    "backend.status()"
   ]
  },
  {
   "cell_type": "code",
   "execution_count": 21,
   "metadata": {},
   "outputs": [
    {
     "data": {
      "text/plain": [
       "QasmBackendConfiguration(allow_object_storage=True, allow_q_object=True, backend_name='ibmqx2', backend_version='2.0.5', basis_gates=['u1', 'u2', 'u3', 'cx', 'id'], conditional=False, coupling_map=[[0, 1], [0, 2], [1, 0], [1, 2], [2, 0], [2, 1], [2, 3], [2, 4], [3, 2], [3, 4], [4, 2], [4, 3]], credits_required=True, description='5 qubit device', gates=[GateConfig(id, [], gate id q { U(0,0,0) q; }, [[0], [1], [2], [3], [4]]), GateConfig(u1, ['lambda'], gate u1(lambda) q { U(0,0,lambda) q; }, [[0], [1], [2], [3], [4]]), GateConfig(u2, ['phi', 'lambda'], gate u2(phi,lambda) q { U(pi/2,phi,lambda) q; }, [[0], [1], [2], [3], [4]]), GateConfig(u3, ['theta', 'phi', 'lambda'], gate u3(theta,phi,lambda) q { U(theta,phi,lambda) q; }, [[0], [1], [2], [3], [4]]), GateConfig(cx, [], gate cx q1,q2 { CX q1,q2; }, [[0, 1], [0, 2], [1, 0], [1, 2], [2, 0], [2, 1], [2, 3], [2, 4], [3, 2], [3, 4], [4, 2], [4, 3]])], local=False, max_experiments=75, max_shots=8192, meas_map=[[0, 1, 2, 3, 4]], memory=True, n_qubits=5, n_registers=1, online_date=datetime.datetime(2017, 1, 24, 5, 0, tzinfo=tzutc()), open_pulse=False, quantum_volume=8, sample_name='sparrow', simulator=False, url='None')"
      ]
     },
     "execution_count": 21,
     "metadata": {},
     "output_type": "execute_result"
    }
   ],
   "source": [
    "backend.configuration()"
   ]
  },
  {
   "cell_type": "code",
   "execution_count": 22,
   "metadata": {},
   "outputs": [
    {
     "data": {
      "text/plain": [
       "BackendProperties(_gates={'id': {(0,): {'gate_error': (0.0006099042273968857, datetime.datetime(2020, 6, 5, 8, 22, 27, tzinfo=tzutc())), 'gate_length': (3.555555555555556e-08, datetime.datetime(2020, 6, 5, 8, 54, 40, tzinfo=tzutc()))}, (1,): {'gate_error': (0.0005977724873576851, datetime.datetime(2020, 6, 5, 8, 23, 49, tzinfo=tzutc())), 'gate_length': (3.555555555555556e-08, datetime.datetime(2020, 6, 5, 8, 54, 40, tzinfo=tzutc()))}, (2,): {'gate_error': (0.0008293974552390407, datetime.datetime(2020, 6, 5, 8, 25, 10, tzinfo=tzutc())), 'gate_length': (3.555555555555556e-08, datetime.datetime(2020, 6, 5, 8, 54, 40, tzinfo=tzutc()))}, (3,): {'gate_error': (0.0005773531450810135, datetime.datetime(2020, 6, 5, 8, 26, 34, tzinfo=tzutc())), 'gate_length': (3.555555555555556e-08, datetime.datetime(2020, 6, 5, 8, 54, 40, tzinfo=tzutc()))}, (4,): {'gate_error': (0.000783828065289456, datetime.datetime(2020, 6, 5, 8, 27, 57, tzinfo=tzutc())), 'gate_length': (3.555555555555556e-08, datetime.datetime(2020, 6, 5, 8, 54, 40, tzinfo=tzutc()))}}, 'u1': {(0,): {'gate_error': (0, datetime.datetime(2020, 6, 5, 8, 22, 27, tzinfo=tzutc())), 'gate_length': (0.0, datetime.datetime(2020, 6, 5, 8, 54, 40, tzinfo=tzutc()))}, (1,): {'gate_error': (0, datetime.datetime(2020, 6, 5, 8, 23, 49, tzinfo=tzutc())), 'gate_length': (0.0, datetime.datetime(2020, 6, 5, 8, 54, 40, tzinfo=tzutc()))}, (2,): {'gate_error': (0, datetime.datetime(2020, 6, 5, 8, 25, 10, tzinfo=tzutc())), 'gate_length': (0.0, datetime.datetime(2020, 6, 5, 8, 54, 40, tzinfo=tzutc()))}, (3,): {'gate_error': (0, datetime.datetime(2020, 6, 5, 8, 26, 34, tzinfo=tzutc())), 'gate_length': (0.0, datetime.datetime(2020, 6, 5, 8, 54, 40, tzinfo=tzutc()))}, (4,): {'gate_error': (0, datetime.datetime(2020, 6, 5, 8, 27, 57, tzinfo=tzutc())), 'gate_length': (0.0, datetime.datetime(2020, 6, 5, 8, 54, 40, tzinfo=tzutc()))}}, 'u2': {(0,): {'gate_error': (0.0006099042273968857, datetime.datetime(2020, 6, 5, 8, 22, 27, tzinfo=tzutc())), 'gate_length': (3.555555555555556e-08, datetime.datetime(2020, 6, 5, 8, 54, 40, tzinfo=tzutc()))}, (1,): {'gate_error': (0.0005977724873576851, datetime.datetime(2020, 6, 5, 8, 23, 49, tzinfo=tzutc())), 'gate_length': (3.555555555555556e-08, datetime.datetime(2020, 6, 5, 8, 54, 40, tzinfo=tzutc()))}, (2,): {'gate_error': (0.0008293974552390407, datetime.datetime(2020, 6, 5, 8, 25, 10, tzinfo=tzutc())), 'gate_length': (3.555555555555556e-08, datetime.datetime(2020, 6, 5, 8, 54, 40, tzinfo=tzutc()))}, (3,): {'gate_error': (0.0005773531450810135, datetime.datetime(2020, 6, 5, 8, 26, 34, tzinfo=tzutc())), 'gate_length': (3.555555555555556e-08, datetime.datetime(2020, 6, 5, 8, 54, 40, tzinfo=tzutc()))}, (4,): {'gate_error': (0.000783828065289456, datetime.datetime(2020, 6, 5, 8, 27, 57, tzinfo=tzutc())), 'gate_length': (3.555555555555556e-08, datetime.datetime(2020, 6, 5, 8, 54, 40, tzinfo=tzutc()))}}, 'u3': {(0,): {'gate_error': (0.0012194364716272554, datetime.datetime(2020, 6, 5, 8, 22, 27, tzinfo=tzutc())), 'gate_length': (7.111111111111112e-08, datetime.datetime(2020, 6, 5, 8, 54, 40, tzinfo=tzutc()))}, (1,): {'gate_error': (0.0011951876427688246, datetime.datetime(2020, 6, 5, 8, 23, 49, tzinfo=tzutc())), 'gate_length': (7.111111111111112e-08, datetime.datetime(2020, 6, 5, 8, 54, 40, tzinfo=tzutc()))}, (2,): {'gate_error': (0.0016581070103393047, datetime.datetime(2020, 6, 5, 8, 25, 10, tzinfo=tzutc())), 'gate_length': (7.111111111111112e-08, datetime.datetime(2020, 6, 5, 8, 54, 40, tzinfo=tzutc()))}, (3,): {'gate_error': (0.0011543729535078429, datetime.datetime(2020, 6, 5, 8, 26, 34, tzinfo=tzutc())), 'gate_length': (7.111111111111112e-08, datetime.datetime(2020, 6, 5, 8, 54, 40, tzinfo=tzutc()))}, (4,): {'gate_error': (0.0015670417441429052, datetime.datetime(2020, 6, 5, 8, 27, 57, tzinfo=tzutc())), 'gate_length': (7.111111111111112e-08, datetime.datetime(2020, 6, 5, 8, 54, 40, tzinfo=tzutc()))}}, 'cx': {(0, 1): {'gate_error': (0.015116431610277453, datetime.datetime(2020, 6, 5, 8, 32, 4, tzinfo=tzutc())), 'gate_length': (3.697777777777778e-07, datetime.datetime(2020, 6, 5, 8, 54, 40, tzinfo=tzutc()))}, (0, 2): {'gate_error': (0.015353619192885554, datetime.datetime(2020, 6, 5, 8, 36, 31, tzinfo=tzutc())), 'gate_length': (4.4800000000000004e-07, datetime.datetime(2020, 6, 5, 8, 54, 40, tzinfo=tzutc()))}, (1, 0): {'gate_error': (0.015116431610277453, datetime.datetime(2020, 6, 5, 8, 32, 4, tzinfo=tzutc())), 'gate_length': (4.0533333333333336e-07, datetime.datetime(2020, 6, 5, 8, 54, 40, tzinfo=tzutc()))}, (1, 2): {'gate_error': (0.017911543819272402, datetime.datetime(2020, 6, 5, 8, 41, 13, tzinfo=tzutc())), 'gate_length': (5.12e-07, datetime.datetime(2020, 6, 5, 8, 54, 40, tzinfo=tzutc()))}, (2, 0): {'gate_error': (0.015353619192885554, datetime.datetime(2020, 6, 5, 8, 36, 31, tzinfo=tzutc())), 'gate_length': (4.835555555555556e-07, datetime.datetime(2020, 6, 5, 8, 54, 40, tzinfo=tzutc()))}, (2, 1): {'gate_error': (0.017911543819272402, datetime.datetime(2020, 6, 5, 8, 41, 13, tzinfo=tzutc())), 'gate_length': (5.475555555555556e-07, datetime.datetime(2020, 6, 5, 8, 54, 40, tzinfo=tzutc()))}, (2, 3): {'gate_error': (0.011701066590263404, datetime.datetime(2020, 6, 5, 8, 45, 48, tzinfo=tzutc())), 'gate_length': (4.622222222222222e-07, datetime.datetime(2020, 6, 5, 8, 54, 40, tzinfo=tzutc()))}, (2, 4): {'gate_error': (0.014566990709772104, datetime.datetime(2020, 6, 5, 8, 54, 40, tzinfo=tzutc())), 'gate_length': (3.911111111111111e-07, datetime.datetime(2020, 6, 5, 8, 54, 40, tzinfo=tzutc()))}, (3, 2): {'gate_error': (0.011701066590263404, datetime.datetime(2020, 6, 5, 8, 45, 48, tzinfo=tzutc())), 'gate_length': (4.266666666666667e-07, datetime.datetime(2020, 6, 5, 8, 54, 40, tzinfo=tzutc()))}, (3, 4): {'gate_error': (0.014664857090176397, datetime.datetime(2020, 6, 5, 8, 50, 12, tzinfo=tzutc())), 'gate_length': (4.124444444444444e-07, datetime.datetime(2020, 6, 5, 8, 54, 40, tzinfo=tzutc()))}, (4, 2): {'gate_error': (0.014566990709772104, datetime.datetime(2020, 6, 5, 8, 54, 40, tzinfo=tzutc())), 'gate_length': (3.555555555555556e-07, datetime.datetime(2020, 6, 5, 8, 54, 40, tzinfo=tzutc()))}, (4, 3): {'gate_error': (0.014664857090176397, datetime.datetime(2020, 6, 5, 8, 50, 12, tzinfo=tzutc())), 'gate_length': (4.4800000000000004e-07, datetime.datetime(2020, 6, 5, 8, 54, 40, tzinfo=tzutc()))}}}, _qubits={0: {'T1': (4.923373459465952e-05, datetime.datetime(2020, 6, 5, 8, 19, 57, tzinfo=tzutc())), 'T2': (7.650114417651596e-05, datetime.datetime(2020, 6, 5, 8, 20, 22, tzinfo=tzutc())), 'frequency': (5286416180.900943, datetime.datetime(2020, 6, 5, 8, 54, 40, tzinfo=tzutc())), 'readout_error': (0.006000000000000005, datetime.datetime(2020, 6, 5, 8, 19, 33, tzinfo=tzutc())), 'prob_meas0_prep1': (0.007000000000000006, datetime.datetime(2020, 6, 5, 8, 19, 33, tzinfo=tzutc())), 'prob_meas1_prep0': (0.005, datetime.datetime(2020, 6, 5, 8, 19, 33, tzinfo=tzutc()))}, 1: {'T1': (5.4446242499717904e-05, datetime.datetime(2020, 6, 5, 8, 19, 57, tzinfo=tzutc())), 'T2': (5.406360876830753e-05, datetime.datetime(2020, 6, 5, 8, 21, 4, tzinfo=tzutc())), 'frequency': (5238268658.95402, datetime.datetime(2020, 6, 5, 8, 54, 40, tzinfo=tzutc())), 'readout_error': (0.018000000000000016, datetime.datetime(2020, 6, 5, 8, 19, 33, tzinfo=tzutc())), 'prob_meas0_prep1': (0.026000000000000023, datetime.datetime(2020, 6, 5, 8, 19, 33, tzinfo=tzutc())), 'prob_meas1_prep0': (0.01, datetime.datetime(2020, 6, 5, 8, 19, 33, tzinfo=tzutc()))}, 2: {'T1': (5.766508373526923e-05, datetime.datetime(2020, 6, 5, 8, 19, 57, tzinfo=tzutc())), 'T2': (7.593269347016919e-05, datetime.datetime(2020, 6, 5, 8, 21, 53, tzinfo=tzutc())), 'frequency': (5030454783.595362, datetime.datetime(2020, 6, 5, 8, 54, 40, tzinfo=tzutc())), 'readout_error': (0.02750000000000008, datetime.datetime(2020, 6, 5, 8, 19, 33, tzinfo=tzutc())), 'prob_meas0_prep1': (0.04300000000000004, datetime.datetime(2020, 6, 5, 8, 19, 33, tzinfo=tzutc())), 'prob_meas1_prep0': (0.012, datetime.datetime(2020, 6, 5, 8, 19, 33, tzinfo=tzutc()))}, 3: {'T1': (5.8717082732770816e-05, datetime.datetime(2020, 6, 5, 8, 19, 57, tzinfo=tzutc())), 'T2': (5.009427569329342e-05, datetime.datetime(2020, 6, 5, 8, 20, 22, tzinfo=tzutc())), 'frequency': (5295601901.723669, datetime.datetime(2020, 6, 5, 8, 54, 40, tzinfo=tzutc())), 'readout_error': (0.02849999999999997, datetime.datetime(2020, 6, 5, 8, 19, 33, tzinfo=tzutc())), 'prob_meas0_prep1': (0.03300000000000003, datetime.datetime(2020, 6, 5, 8, 19, 33, tzinfo=tzutc())), 'prob_meas1_prep0': (0.024, datetime.datetime(2020, 6, 5, 8, 19, 33, tzinfo=tzutc()))}, 4: {'T1': (5.7274885889607644e-05, datetime.datetime(2020, 6, 5, 8, 19, 57, tzinfo=tzutc())), 'T2': (6.851244574521241e-05, datetime.datetime(2020, 6, 5, 8, 21, 4, tzinfo=tzutc())), 'frequency': (5084383021.800141, datetime.datetime(2020, 6, 5, 8, 54, 40, tzinfo=tzutc())), 'readout_error': (0.02100000000000002, datetime.datetime(2020, 6, 5, 8, 19, 33, tzinfo=tzutc())), 'prob_meas0_prep1': (0.031000000000000028, datetime.datetime(2020, 6, 5, 8, 19, 33, tzinfo=tzutc())), 'prob_meas1_prep0': (0.011, datetime.datetime(2020, 6, 5, 8, 19, 33, tzinfo=tzutc()))}}, backend_name='ibmqx2', backend_version='2.0.5', gates=[Gate(gate='id', name='id_0', parameters=[Nduv(datetime.datetime(2020, 6, 5, 8, 22, 27, tzinfo=tzutc()), gate_error, , 0.0006099042273968857), Nduv(datetime.datetime(2020, 6, 5, 8, 54, 40, tzinfo=tzutc()), gate_length, ns, 35.55555555555556)], qubits=[0]), Gate(gate='u1', name='u1_0', parameters=[Nduv(datetime.datetime(2020, 6, 5, 8, 22, 27, tzinfo=tzutc()), gate_error, , 0), Nduv(datetime.datetime(2020, 6, 5, 8, 54, 40, tzinfo=tzutc()), gate_length, ns, 0)], qubits=[0]), Gate(gate='u2', name='u2_0', parameters=[Nduv(datetime.datetime(2020, 6, 5, 8, 22, 27, tzinfo=tzutc()), gate_error, , 0.0006099042273968857), Nduv(datetime.datetime(2020, 6, 5, 8, 54, 40, tzinfo=tzutc()), gate_length, ns, 35.55555555555556)], qubits=[0]), Gate(gate='u3', name='u3_0', parameters=[Nduv(datetime.datetime(2020, 6, 5, 8, 22, 27, tzinfo=tzutc()), gate_error, , 0.0012194364716272554), Nduv(datetime.datetime(2020, 6, 5, 8, 54, 40, tzinfo=tzutc()), gate_length, ns, 71.11111111111111)], qubits=[0]), Gate(gate='id', name='id_1', parameters=[Nduv(datetime.datetime(2020, 6, 5, 8, 23, 49, tzinfo=tzutc()), gate_error, , 0.0005977724873576851), Nduv(datetime.datetime(2020, 6, 5, 8, 54, 40, tzinfo=tzutc()), gate_length, ns, 35.55555555555556)], qubits=[1]), Gate(gate='u1', name='u1_1', parameters=[Nduv(datetime.datetime(2020, 6, 5, 8, 23, 49, tzinfo=tzutc()), gate_error, , 0), Nduv(datetime.datetime(2020, 6, 5, 8, 54, 40, tzinfo=tzutc()), gate_length, ns, 0)], qubits=[1]), Gate(gate='u2', name='u2_1', parameters=[Nduv(datetime.datetime(2020, 6, 5, 8, 23, 49, tzinfo=tzutc()), gate_error, , 0.0005977724873576851), Nduv(datetime.datetime(2020, 6, 5, 8, 54, 40, tzinfo=tzutc()), gate_length, ns, 35.55555555555556)], qubits=[1]), Gate(gate='u3', name='u3_1', parameters=[Nduv(datetime.datetime(2020, 6, 5, 8, 23, 49, tzinfo=tzutc()), gate_error, , 0.0011951876427688246), Nduv(datetime.datetime(2020, 6, 5, 8, 54, 40, tzinfo=tzutc()), gate_length, ns, 71.11111111111111)], qubits=[1]), Gate(gate='id', name='id_2', parameters=[Nduv(datetime.datetime(2020, 6, 5, 8, 25, 10, tzinfo=tzutc()), gate_error, , 0.0008293974552390407), Nduv(datetime.datetime(2020, 6, 5, 8, 54, 40, tzinfo=tzutc()), gate_length, ns, 35.55555555555556)], qubits=[2]), Gate(gate='u1', name='u1_2', parameters=[Nduv(datetime.datetime(2020, 6, 5, 8, 25, 10, tzinfo=tzutc()), gate_error, , 0), Nduv(datetime.datetime(2020, 6, 5, 8, 54, 40, tzinfo=tzutc()), gate_length, ns, 0)], qubits=[2]), Gate(gate='u2', name='u2_2', parameters=[Nduv(datetime.datetime(2020, 6, 5, 8, 25, 10, tzinfo=tzutc()), gate_error, , 0.0008293974552390407), Nduv(datetime.datetime(2020, 6, 5, 8, 54, 40, tzinfo=tzutc()), gate_length, ns, 35.55555555555556)], qubits=[2]), Gate(gate='u3', name='u3_2', parameters=[Nduv(datetime.datetime(2020, 6, 5, 8, 25, 10, tzinfo=tzutc()), gate_error, , 0.0016581070103393047), Nduv(datetime.datetime(2020, 6, 5, 8, 54, 40, tzinfo=tzutc()), gate_length, ns, 71.11111111111111)], qubits=[2]), Gate(gate='id', name='id_3', parameters=[Nduv(datetime.datetime(2020, 6, 5, 8, 26, 34, tzinfo=tzutc()), gate_error, , 0.0005773531450810135), Nduv(datetime.datetime(2020, 6, 5, 8, 54, 40, tzinfo=tzutc()), gate_length, ns, 35.55555555555556)], qubits=[3]), Gate(gate='u1', name='u1_3', parameters=[Nduv(datetime.datetime(2020, 6, 5, 8, 26, 34, tzinfo=tzutc()), gate_error, , 0), Nduv(datetime.datetime(2020, 6, 5, 8, 54, 40, tzinfo=tzutc()), gate_length, ns, 0)], qubits=[3]), Gate(gate='u2', name='u2_3', parameters=[Nduv(datetime.datetime(2020, 6, 5, 8, 26, 34, tzinfo=tzutc()), gate_error, , 0.0005773531450810135), Nduv(datetime.datetime(2020, 6, 5, 8, 54, 40, tzinfo=tzutc()), gate_length, ns, 35.55555555555556)], qubits=[3]), Gate(gate='u3', name='u3_3', parameters=[Nduv(datetime.datetime(2020, 6, 5, 8, 26, 34, tzinfo=tzutc()), gate_error, , 0.0011543729535078429), Nduv(datetime.datetime(2020, 6, 5, 8, 54, 40, tzinfo=tzutc()), gate_length, ns, 71.11111111111111)], qubits=[3]), Gate(gate='id', name='id_4', parameters=[Nduv(datetime.datetime(2020, 6, 5, 8, 27, 57, tzinfo=tzutc()), gate_error, , 0.000783828065289456), Nduv(datetime.datetime(2020, 6, 5, 8, 54, 40, tzinfo=tzutc()), gate_length, ns, 35.55555555555556)], qubits=[4]), Gate(gate='u1', name='u1_4', parameters=[Nduv(datetime.datetime(2020, 6, 5, 8, 27, 57, tzinfo=tzutc()), gate_error, , 0), Nduv(datetime.datetime(2020, 6, 5, 8, 54, 40, tzinfo=tzutc()), gate_length, ns, 0)], qubits=[4]), Gate(gate='u2', name='u2_4', parameters=[Nduv(datetime.datetime(2020, 6, 5, 8, 27, 57, tzinfo=tzutc()), gate_error, , 0.000783828065289456), Nduv(datetime.datetime(2020, 6, 5, 8, 54, 40, tzinfo=tzutc()), gate_length, ns, 35.55555555555556)], qubits=[4]), Gate(gate='u3', name='u3_4', parameters=[Nduv(datetime.datetime(2020, 6, 5, 8, 27, 57, tzinfo=tzutc()), gate_error, , 0.0015670417441429052), Nduv(datetime.datetime(2020, 6, 5, 8, 54, 40, tzinfo=tzutc()), gate_length, ns, 71.11111111111111)], qubits=[4]), Gate(gate='cx', name='cx0_1', parameters=[Nduv(datetime.datetime(2020, 6, 5, 8, 32, 4, tzinfo=tzutc()), gate_error, , 0.015116431610277453), Nduv(datetime.datetime(2020, 6, 5, 8, 54, 40, tzinfo=tzutc()), gate_length, ns, 369.77777777777777)], qubits=[0, 1]), Gate(gate='cx', name='cx0_2', parameters=[Nduv(datetime.datetime(2020, 6, 5, 8, 36, 31, tzinfo=tzutc()), gate_error, , 0.015353619192885554), Nduv(datetime.datetime(2020, 6, 5, 8, 54, 40, tzinfo=tzutc()), gate_length, ns, 448)], qubits=[0, 2]), Gate(gate='cx', name='cx1_0', parameters=[Nduv(datetime.datetime(2020, 6, 5, 8, 32, 4, tzinfo=tzutc()), gate_error, , 0.015116431610277453), Nduv(datetime.datetime(2020, 6, 5, 8, 54, 40, tzinfo=tzutc()), gate_length, ns, 405.3333333333333)], qubits=[1, 0]), Gate(gate='cx', name='cx1_2', parameters=[Nduv(datetime.datetime(2020, 6, 5, 8, 41, 13, tzinfo=tzutc()), gate_error, , 0.017911543819272402), Nduv(datetime.datetime(2020, 6, 5, 8, 54, 40, tzinfo=tzutc()), gate_length, ns, 512)], qubits=[1, 2]), Gate(gate='cx', name='cx2_0', parameters=[Nduv(datetime.datetime(2020, 6, 5, 8, 36, 31, tzinfo=tzutc()), gate_error, , 0.015353619192885554), Nduv(datetime.datetime(2020, 6, 5, 8, 54, 40, tzinfo=tzutc()), gate_length, ns, 483.55555555555554)], qubits=[2, 0]), Gate(gate='cx', name='cx2_1', parameters=[Nduv(datetime.datetime(2020, 6, 5, 8, 41, 13, tzinfo=tzutc()), gate_error, , 0.017911543819272402), Nduv(datetime.datetime(2020, 6, 5, 8, 54, 40, tzinfo=tzutc()), gate_length, ns, 547.5555555555555)], qubits=[2, 1]), Gate(gate='cx', name='cx2_3', parameters=[Nduv(datetime.datetime(2020, 6, 5, 8, 45, 48, tzinfo=tzutc()), gate_error, , 0.011701066590263404), Nduv(datetime.datetime(2020, 6, 5, 8, 54, 40, tzinfo=tzutc()), gate_length, ns, 462.2222222222222)], qubits=[2, 3]), Gate(gate='cx', name='cx2_4', parameters=[Nduv(datetime.datetime(2020, 6, 5, 8, 54, 40, tzinfo=tzutc()), gate_error, , 0.014566990709772104), Nduv(datetime.datetime(2020, 6, 5, 8, 54, 40, tzinfo=tzutc()), gate_length, ns, 391.1111111111111)], qubits=[2, 4]), Gate(gate='cx', name='cx3_2', parameters=[Nduv(datetime.datetime(2020, 6, 5, 8, 45, 48, tzinfo=tzutc()), gate_error, , 0.011701066590263404), Nduv(datetime.datetime(2020, 6, 5, 8, 54, 40, tzinfo=tzutc()), gate_length, ns, 426.66666666666663)], qubits=[3, 2]), Gate(gate='cx', name='cx3_4', parameters=[Nduv(datetime.datetime(2020, 6, 5, 8, 50, 12, tzinfo=tzutc()), gate_error, , 0.014664857090176397), Nduv(datetime.datetime(2020, 6, 5, 8, 54, 40, tzinfo=tzutc()), gate_length, ns, 412.4444444444444)], qubits=[3, 4]), Gate(gate='cx', name='cx4_2', parameters=[Nduv(datetime.datetime(2020, 6, 5, 8, 54, 40, tzinfo=tzutc()), gate_error, , 0.014566990709772104), Nduv(datetime.datetime(2020, 6, 5, 8, 54, 40, tzinfo=tzutc()), gate_length, ns, 355.55555555555554)], qubits=[4, 2]), Gate(gate='cx', name='cx4_3', parameters=[Nduv(datetime.datetime(2020, 6, 5, 8, 50, 12, tzinfo=tzutc()), gate_error, , 0.014664857090176397), Nduv(datetime.datetime(2020, 6, 5, 8, 54, 40, tzinfo=tzutc()), gate_length, ns, 448)], qubits=[4, 3])], general=[], last_update_date=datetime.datetime(2020, 6, 5, 8, 54, 40, tzinfo=tzutc()), qubits=[[Nduv(datetime.datetime(2020, 6, 5, 8, 19, 57, tzinfo=tzutc()), T1, µs, 49.233734594659516), Nduv(datetime.datetime(2020, 6, 5, 8, 20, 22, tzinfo=tzutc()), T2, µs, 76.50114417651596), Nduv(datetime.datetime(2020, 6, 5, 8, 54, 40, tzinfo=tzutc()), frequency, GHz, 5.286416180900943), Nduv(datetime.datetime(2020, 6, 5, 8, 19, 33, tzinfo=tzutc()), readout_error, , 0.006000000000000005), Nduv(datetime.datetime(2020, 6, 5, 8, 19, 33, tzinfo=tzutc()), prob_meas0_prep1, , 0.007000000000000006), Nduv(datetime.datetime(2020, 6, 5, 8, 19, 33, tzinfo=tzutc()), prob_meas1_prep0, , 0.005)], [Nduv(datetime.datetime(2020, 6, 5, 8, 19, 57, tzinfo=tzutc()), T1, µs, 54.446242499717904), Nduv(datetime.datetime(2020, 6, 5, 8, 21, 4, tzinfo=tzutc()), T2, µs, 54.06360876830753), Nduv(datetime.datetime(2020, 6, 5, 8, 54, 40, tzinfo=tzutc()), frequency, GHz, 5.23826865895402), Nduv(datetime.datetime(2020, 6, 5, 8, 19, 33, tzinfo=tzutc()), readout_error, , 0.018000000000000016), Nduv(datetime.datetime(2020, 6, 5, 8, 19, 33, tzinfo=tzutc()), prob_meas0_prep1, , 0.026000000000000023), Nduv(datetime.datetime(2020, 6, 5, 8, 19, 33, tzinfo=tzutc()), prob_meas1_prep0, , 0.01)], [Nduv(datetime.datetime(2020, 6, 5, 8, 19, 57, tzinfo=tzutc()), T1, µs, 57.665083735269235), Nduv(datetime.datetime(2020, 6, 5, 8, 21, 53, tzinfo=tzutc()), T2, µs, 75.9326934701692), Nduv(datetime.datetime(2020, 6, 5, 8, 54, 40, tzinfo=tzutc()), frequency, GHz, 5.030454783595362), Nduv(datetime.datetime(2020, 6, 5, 8, 19, 33, tzinfo=tzutc()), readout_error, , 0.02750000000000008), Nduv(datetime.datetime(2020, 6, 5, 8, 19, 33, tzinfo=tzutc()), prob_meas0_prep1, , 0.04300000000000004), Nduv(datetime.datetime(2020, 6, 5, 8, 19, 33, tzinfo=tzutc()), prob_meas1_prep0, , 0.012)], [Nduv(datetime.datetime(2020, 6, 5, 8, 19, 57, tzinfo=tzutc()), T1, µs, 58.71708273277082), Nduv(datetime.datetime(2020, 6, 5, 8, 20, 22, tzinfo=tzutc()), T2, µs, 50.094275693293426), Nduv(datetime.datetime(2020, 6, 5, 8, 54, 40, tzinfo=tzutc()), frequency, GHz, 5.295601901723669), Nduv(datetime.datetime(2020, 6, 5, 8, 19, 33, tzinfo=tzutc()), readout_error, , 0.02849999999999997), Nduv(datetime.datetime(2020, 6, 5, 8, 19, 33, tzinfo=tzutc()), prob_meas0_prep1, , 0.03300000000000003), Nduv(datetime.datetime(2020, 6, 5, 8, 19, 33, tzinfo=tzutc()), prob_meas1_prep0, , 0.024)], [Nduv(datetime.datetime(2020, 6, 5, 8, 19, 57, tzinfo=tzutc()), T1, µs, 57.274885889607646), Nduv(datetime.datetime(2020, 6, 5, 8, 21, 4, tzinfo=tzutc()), T2, µs, 68.51244574521242), Nduv(datetime.datetime(2020, 6, 5, 8, 54, 40, tzinfo=tzutc()), frequency, GHz, 5.084383021800141), Nduv(datetime.datetime(2020, 6, 5, 8, 19, 33, tzinfo=tzutc()), readout_error, , 0.02100000000000002), Nduv(datetime.datetime(2020, 6, 5, 8, 19, 33, tzinfo=tzutc()), prob_meas0_prep1, , 0.031000000000000028), Nduv(datetime.datetime(2020, 6, 5, 8, 19, 33, tzinfo=tzutc()), prob_meas1_prep0, , 0.011)]])"
      ]
     },
     "execution_count": 22,
     "metadata": {},
     "output_type": "execute_result"
    }
   ],
   "source": [
    "backend.properties()"
   ]
  },
  {
   "cell_type": "code",
   "execution_count": 23,
   "metadata": {},
   "outputs": [
    {
     "name": "stdout",
     "output_type": "stream",
     "text": [
      "5ddd9fa7329c820012d88771 JobStatus.CANCELLED\n"
     ]
    }
   ],
   "source": [
    "# JOBS\n",
    "# To see the last 5 jobs:\n",
    "for ran_job in backend.jobs(limit=5):\n",
    "    print(str(ran_job.job_id()) + \" \" + str(ran_job.status()))"
   ]
  },
  {
   "cell_type": "code",
   "execution_count": 26,
   "metadata": {},
   "outputs": [
    {
     "data": {
      "text/plain": [
       "IBMQJob(_api=<qiskit.providers.ibmq.api.clients.account.AccountClient object at 0x0000023487EBD788>, _api_status='CANCELLED', _backend=<IBMQBackend('ibmqx2') from IBMQ(hub='ibm-q', group='open', project='main')>, _backend_info={'id': '5ae875670f020500393162da', 'name': 'ibmqx2'}, _cancelled=False, _creation_date=datetime.datetime(2019, 11, 26, 21, 56, 55, 216000, tzinfo=tzutc()), _error=None, _job_error_msg=None, _job_id='5ddd9fa7329c820012d88771', _kind=<ApiJobKind.QOBJECT_STORAGE: 'q-object-external-storage'>, _name=None, _qobj=None, _queue_info=None, _result=None, _run_mode=None, _status=<JobStatus.CANCELLED: 'job has been cancelled'>, _tags=[], _time_per_step={'CREATING': '2019-11-26T21:56:55.224Z', 'CREATED': '2019-11-26T21:56:56.970Z', 'VALIDATING': '2019-11-26T21:56:56.996Z', 'VALIDATED': '2019-11-26T21:56:57.729Z', 'RUNNING': '2019-11-26T21:56:57.804Z', 'WORKING_IN_PROGRESS': '2019-11-26T21:56:57.795Z', 'CANCELLED': '2019-11-26T22:10:04.501Z'}, _use_object_storage=True, allow_object_storage=True, cost=25.12, hub_info={'hub': {'name': 'ibm-q'}, 'group': {'name': 'open'}, 'project': {'name': 'main'}}, lsf_info={'user': {'email': 'a.morales.2019@alumnos.urjc.es', 'group': ['ibm-q', 'open', 'main']}, 'device': 'ibmqx2'}, summary_data={'size': {'input': 858}, 'summary': {'qobj_config': {'max_credits': 10, 'memory': False, 'type': 'QASM', 'shots': 1024, 'memory_slots': 2, 'n_qubits': 5}, 'num_circuits': 1, 'partial_validation': False, 'gates_executed': 2, 'max_qubits_used': 5}, 'success': True}, used_credits=3, user_id='5db9fa0758b3bc001865e9d4')"
      ]
     },
     "execution_count": 26,
     "metadata": {},
     "output_type": "execute_result"
    }
   ],
   "source": [
    "# A job can be retrieved with his id\n",
    "job = backend.retrieve_job(ran_job.job_id())\n",
    "job"
   ]
  },
  {
   "cell_type": "code",
   "execution_count": 28,
   "metadata": {},
   "outputs": [
    {
     "data": {
      "image/png": "[encoded data removed]",
      "text/plain": [
       "<Figure size 490.028x264.88 with 1 Axes>"
      ]
     },
     "execution_count": 28,
     "metadata": {},
     "output_type": "execute_result"
    }
   ],
   "source": [
    "from qiskit import *\n",
    "from qiskit.compiler import transpile, assemble\n",
    "qr = QuantumRegister(3)\n",
    "cr = ClassicalRegister(3)\n",
    "circuit = QuantumCircuit(qr, cr)\n",
    "circuit.x(qr[0])\n",
    "circuit.x(qr[1])\n",
    "circuit.ccx(qr[0], qr[1], qr[2])\n",
    "circuit.cx(qr[0], qr[1])\n",
    "circuit.measure(qr, cr)\n",
    "circuit.draw(output = 'mpl')"
   ]
  },
  {
   "cell_type": "code",
   "execution_count": 32,
   "metadata": {},
   "outputs": [],
   "source": [
    "# Functions to map the circuit and package it\n",
    "job = execute(circuit, backend)\n",
    "mapa = assemble(mapped_circuit, backend=backend, shots=1024)\n",
    "job = backend.run(qobj)"
   ]
  },
  {
   "cell_type": "code",
   "execution_count": 34,
   "metadata": {},
   "outputs": [
    {
     "name": "stderr",
     "output_type": "stream",
     "text": [
      "C:\\Users\\Adrián\\AppData\\Roaming\\Python\\Python37\\site-packages\\qiskit\\providers\\ibmq\\managed\\managedjob.py:132: UserWarning: Unable to submit job for experiments 0-19: 'Error submitting job: \\'(\\\\\\'Connection aborted.\\\\\\', OSError(\"(10054, \\\\\\'WSAECONNRESET\\\\\\')\"))\\''\n",
      "  self.start_index, self.end_index, err))\n"
     ]
    }
   ],
   "source": [
    "from qiskit.providers.ibmq.managed import IBMQJobManager\n",
    "\n",
    "sim_backend = provider.get_backend('ibmq_qasm_simulator')\n",
    "# Prepare a set of circuits\n",
    "circs = []\n",
    "for _ in range(20):\n",
    "    circs.append(circuit)\n",
    "circs = transpile(circs, backend=sim_backend)\n",
    "\n",
    "# Submit them all to the backend\n",
    "job_manager = IBMQJobManager()\n",
    "job_set_foo = job_manager.run(circs, backend=sim_backend, name='foo')"
   ]
  },
  {
   "cell_type": "code",
   "execution_count": 35,
   "metadata": {},
   "outputs": [
    {
     "name": "stdout",
     "output_type": "stream",
     "text": [
      "Job set name: foo\n",
      "          ID: c92194329d3a4fa5aaa26d579c12d502-15913879873880587\n",
      "        tags: []\n",
      "Summary report:\n",
      "       Total jobs: 1\n",
      "  Successful jobs: 0\n",
      "      Failed jobs: 0\n",
      "   Cancelled jobs: 0\n",
      "     Running jobs: 0\n",
      "     Pending jobs: 0\n",
      "\n",
      "Detail report:\n",
      "  experiments: 0-19\n",
      "    job index: 0\n",
      "    status: job submit failed: 'Error submitting job: \\'(\\\\\\'Connection aborted.\\\\\\', OSError(\"(10054, \\\\\\'WSAECONNRESET\\\\\\')\"))\\''\n"
     ]
    }
   ],
   "source": [
    "print(job_set_foo.report())"
   ]
  },
  {
   "cell_type": "code",
   "execution_count": 36,
   "metadata": {},
   "outputs": [],
   "source": [
    "# Submit them all to the backend\n",
    "job_set_bar = job_manager.run(circs, backend=sim_backend, name='bar', max_experiments_per_job=10)"
   ]
  },
  {
   "cell_type": "code",
   "execution_count": 37,
   "metadata": {},
   "outputs": [
    {
     "name": "stdout",
     "output_type": "stream",
     "text": [
      "Job set name: bar\n",
      "          ID: 29c76a4e87bf4c4184e22625b51c225b-15913880368663168\n",
      "        tags: []\n",
      "Summary report:\n",
      "       Total jobs: 2\n",
      "  Successful jobs: 2\n",
      "      Failed jobs: 0\n",
      "   Cancelled jobs: 0\n",
      "     Running jobs: 0\n",
      "     Pending jobs: 0\n",
      "\n",
      "Detail report:\n",
      "  experiments: 0-9\n",
      "    job index: 0\n",
      "    job ID: 5edaa787304e3100139f8171\n",
      "    name: bar_0_\n",
      "    status: job has successfully run\n",
      "  experiments: 10-19\n",
      "    job index: 1\n",
      "    job ID: 5edaa78a23d04600136961ff\n",
      "    name: bar_1_\n",
      "    status: job has successfully run\n"
     ]
    }
   ],
   "source": [
    "print(job_set_bar.report())"
   ]
  },
  {
   "cell_type": "code",
   "execution_count": 38,
   "metadata": {},
   "outputs": [
    {
     "name": "stdout",
     "output_type": "stream",
     "text": [
      "This is the histogram data for experiment 5: {'101': 1024}\n",
      "This is the histogram data for experiment 15: {'101': 1024}\n"
     ]
    }
   ],
   "source": [
    "results = job_set_bar.results()\n",
    "print(\"This is the histogram data for experiment 5: {}\".format(results.get_counts(5)))\n",
    "print(\"This is the histogram data for experiment 15: {}\".format(results.get_counts(15)))"
   ]
  },
  {
   "cell_type": "code",
   "execution_count": 33,
   "metadata": {
    "scrolled": true
   },
   "outputs": [
    {
     "data": {
      "text/html": [
       "<h3>Version Information</h3><table><tr><th>Qiskit Software</th><th>Version</th></tr><tr><td>Qiskit</td><td>0.19.2</td></tr><tr><td>Terra</td><td>0.14.1</td></tr><tr><td>Aer</td><td>0.5.1</td></tr><tr><td>Ignis</td><td>0.3.0</td></tr><tr><td>Aqua</td><td>0.7.1</td></tr><tr><td>IBM Q Provider</td><td>0.7.1</td></tr><tr><th>System information</th></tr><tr><td>Python</td><td>3.7.4 (tags/v3.7.4:e09359112e, Jul  8 2019, 20:34:20) [MSC v.1916 64 bit (AMD64)]</td></tr><tr><td>OS</td><td>Windows</td></tr><tr><td>CPUs</td><td>4</td></tr><tr><td>Memory (Gb)</td><td>7.937969207763672</td></tr><tr><td colspan='2'>Fri Jun 05 21:47:16 2020 Hora de verano romance</td></tr></table>"
      ],
      "text/plain": [
       "<IPython.core.display.HTML object>"
      ]
     },
     "metadata": {},
     "output_type": "display_data"
    },
    {
     "data": {
      "text/html": [
       "<div style='width: 100%; background-color:#d5d9e0;padding-left: 10px; padding-bottom: 10px; padding-right: 10px; padding-top: 5px'><h3>This code is a part of Qiskit</h3><p>&copy; Copyright IBM 2017, 2020.</p><p>This code is licensed under the Apache License, Version 2.0. You may<br>obtain a copy of this license in the LICENSE.txt file in the root directory<br> of this source tree or at http://www.apache.org/licenses/LICENSE-2.0.<p>Any modifications or derivative works of this code must retain this<br>copyright notice, and modified files need to carry a notice indicating<br>that they have been altered from the originals.</p></div>"
      ],
      "text/plain": [
       "<IPython.core.display.HTML object>"
      ]
     },
     "metadata": {},
     "output_type": "display_data"
    }
   ],
   "source": [
    "import qiskit.tools.jupyter\n",
    "%qiskit_version_table\n",
    "%qiskit_copyright"
   ]
  }
 ],
 "metadata": {
  "kernelspec": {
   "display_name": "Python 3",
   "language": "python",
   "name": "python3"
  },
  "language_info": {
   "codemirror_mode": {
    "name": "ipython",
    "version": 3
   },
   "file_extension": ".py",
   "mimetype": "text/x-python",
   "name": "python",
   "nbconvert_exporter": "python",
   "pygments_lexer": "ipython3",
   "version": "3.7.4"
  }
 },
 "nbformat": 4,
 "nbformat_minor": 2
}
